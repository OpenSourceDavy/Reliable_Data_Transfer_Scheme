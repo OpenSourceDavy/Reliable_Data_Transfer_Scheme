{
 "cells": [
  {
   "cell_type": "code",
   "execution_count": null,
   "id": "b913db60",
   "metadata": {},
   "outputs": [],
   "source": [
    "import re\n",
    "\n",
    "# this captures sequences of alphabetic characters\n",
    "# possibily followed by an apostrophe and more characters\n",
    "# n.b. (?:...) denotes a non-capturing group\n",
    "def simple_tokenize(s):\n",
    "    return re.findall(r\"[a-z]+(?:'[a-z]+)?\",s.lower())"
   ]
  }
 ],
 "metadata": {
  "kernelspec": {
   "display_name": "Python 3 (ipykernel)",
   "language": "python",
   "name": "python3"
  },
  "language_info": {
   "codemirror_mode": {
    "name": "ipython",
    "version": 3
   },
   "file_extension": ".py",
   "mimetype": "text/x-python",
   "name": "python",
   "nbconvert_exporter": "python",
   "pygments_lexer": "ipython3",
   "version": "3.10.7"
  }
 },
 "nbformat": 4,
 "nbformat_minor": 5
}
